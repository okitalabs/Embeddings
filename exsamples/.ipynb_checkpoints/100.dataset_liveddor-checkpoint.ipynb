{
 "cells": [
  {
   "cell_type": "markdown",
   "id": "2c111f9c-5d38-4059-bec3-8144dc937a4c",
   "metadata": {},
   "source": [
    "# Embeddings検証用のデータセット作成\n",
    "- ライブドアニュース、9カテゴリ、各300件、計2700件、戦闘から512文字を抽出\n",
    "- HuggingFaceの`shunk031/livedoor-news-corpus`を使用する\n",
    "- `livedoor_300.csv.zip`として保存"
   ]
  },
  {
   "cell_type": "code",
   "execution_count": null,
   "id": "e2ad0654-fa46-4d75-b466-09f19867e7d3",
   "metadata": {},
   "outputs": [],
   "source": [
    "from datasets import load_dataset\n",
    "import pandas as pd\n",
    "\n",
    "dataset = load_dataset(\n",
    "    \"shunk031/livedoor-news-corpus\", ## HuggingFaceのDatasets名\n",
    "    train_ratio=0.998, ## 1だとエラーになるので\n",
    "    val_ratio=0.001,\n",
    "    test_ratio=0.001,\n",
    "    random_state=42, \n",
    "    shuffle=False,\n",
    ")\n",
    "\n",
    "name = 'train' ## trainのみ収集\n",
    "df = pd.DataFrame({'category':dataset[name][\"category\"], 'content':dataset[name][\"content\"], 'title':dataset[name][\"title\"]})\n",
    "\n",
    "## 各カテゴリ別のデータ数表示\n",
    "for i in df['category'].unique():\n",
    "    print(i, len(df[df['category']==i]))\n",
    "\n",
    "# 特定のカラムの文字数を512文字でカットする関数を定義する\n",
    "def cut_text(text):\n",
    "    if len(text) > 512:\n",
    "        return text[:512]\n",
    "    else:\n",
    "        return text\n",
    "\n",
    "# 特定のカラムの文字列を512文字でカットする\n",
    "target_column = 'content512' ## 保存カラム名\n",
    "df[target_column] = df['content'].apply(cut_text)\n",
    "df = df.reset_index()\n",
    "\n",
    "## 必要なカラムだけ残す\n",
    "df = df[['index','category','content512']]\n",
    "\n",
    "## 各categoryごとに300件ずつ抽出して追加する\n",
    "df_save = pd.DataFrame()\n",
    "for i in range(9): ## categoryは0-9\n",
    "    if i == 0:\n",
    "        df_save = df[df['category']==i][0:300]\n",
    "    else:\n",
    "        df_save = pd.concat([df_save, df[df['category']==i][0:300]], axis=0)\n",
    "\n",
    "## 保存\n",
    "df_save.to_csv('livedoor_300.csv.zip', compression=\"zip\")\n",
    "\n",
    "print('saved')\n"
   ]
  }
 ],
 "metadata": {
  "kernelspec": {
   "display_name": "Python 3 (ipykernel)",
   "language": "python",
   "name": "python3"
  },
  "language_info": {
   "codemirror_mode": {
    "name": "ipython",
    "version": 3
   },
   "file_extension": ".py",
   "mimetype": "text/x-python",
   "name": "python",
   "nbconvert_exporter": "python",
   "pygments_lexer": "ipython3",
   "version": "3.8.10"
  }
 },
 "nbformat": 4,
 "nbformat_minor": 5
}
