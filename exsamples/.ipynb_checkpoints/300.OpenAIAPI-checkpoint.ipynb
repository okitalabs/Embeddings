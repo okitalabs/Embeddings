{
 "cells": [
  {
   "cell_type": "markdown",
   "id": "4a520065-a5b5-46a2-9fcf-451aa3899c29",
   "metadata": {},
   "source": [
    "# OpenAI APIでEmbeddings評価\n",
    "- OpenAI.embeddings.createを使用してEmbedding\n",
    "- 1件ずつEmbedding\n",
    "- 散布図と評価スコアの作成"
   ]
  },
  {
   "cell_type": "markdown",
   "id": "67c88bb3-c4a1-432e-9667-a2d427566735",
   "metadata": {},
   "source": [
    "## Embeddings"
   ]
  },
  {
   "cell_type": "code",
   "execution_count": null,
   "id": "dcd2fcd7-e8fe-425c-bef4-84d0f47196b4",
   "metadata": {},
   "outputs": [
    {
     "name": "stdout",
     "output_type": "stream",
     "text": [
      "Embed len: 896\n"
     ]
    }
   ],
   "source": [
    "import time\n",
    "import subprocess\n",
    "import numpy as np\n",
    "import pandas as pd\n",
    "from openai import OpenAI\n",
    "\n",
    "## GPUメモリ表示\n",
    "def gpu_mem():\n",
    "    gpucmd = 'nvidia-smi --query-gpu=memory.used --format=csv,,noheader'\n",
    "    gpuinfo = subprocess.check_output(gpucmd, shell=True)\n",
    "    return 'GPU memory: ' + gpuinfo.decode()\n",
    "\n",
    "## 設定\n",
    "model = 'text-embedding-ada-002' ## LLM Model Name\n",
    "title = 'Qwen/Qwen2-0.5B' + ' fastchat' ## グラフタイトル\n",
    "datafile = '../livedoor_300.csv.zip' ## Datasets file\n",
    "\n",
    "## データ読み込み\n",
    "df_livedoor = pd.read_csv(datafile)\n",
    "text_data = list(df_livedoor['content512'].values)\n",
    "\n",
    "## モデルの読み込み\n",
    "client = OpenAI(\n",
    "    base_url='http://localhost:8000/v1', ## API Endpoint\n",
    "    api_key='Dummy', ## Dummy Key\n",
    ")\n",
    "\n",
    "## 試験\n",
    "response = client.embeddings.create(\n",
    "    model=model,\n",
    "    timeout = 3600,\n",
    "    input=['hello world']\n",
    ")\n",
    "print('Embed len:', len(response.data[0].embedding))\n",
    "\n",
    "## Embedding\n",
    "start = time.perf_counter()\n",
    "embed_data = []\n",
    "i=0\n",
    "for text in text_data:\n",
    "    response = client.embeddings.create(\n",
    "        model=model,\n",
    "        timeout = 3600*8,\n",
    "        input=text\n",
    "    )\n",
    "    embed_data.append(response.data[0].embedding)\n",
    "\n",
    "print('embeded time:', time.perf_counter() - start)\n",
    "print(gpu_mem()) ## GPUメモリ消費量\n"
   ]
  },
  {
   "cell_type": "markdown",
   "id": "778304a8-55c7-4e64-ae4d-09c3725c60c4",
   "metadata": {},
   "source": [
    "## 散布図の作成\n",
    "- t-SNEで2次に次元元削減して散布図を作成  \n",
    "- 評価方法  \n",
    "ライブドアニュース（9カテゴリ、300件ずつ、計2700件）、EmbeddingsのCos類似度で、上位3件が同じカテゴリかどうか、同じカテゴリ数/全カテゴリ数 = 100点満点"
   ]
  },
  {
   "cell_type": "code",
   "execution_count": null,
   "id": "62ab2234-6b57-4e23-80f0-42ae986eeeb8",
   "metadata": {},
   "outputs": [],
   "source": [
    "import matplotlib.pyplot as plt\n",
    "import matplotlib.cm as cm\n",
    "import matplotlib.patches as mpatches\n",
    "from pylab import rcParams\n",
    "fig=plt.figure(figsize=(20,12),facecolor='w')\n",
    "# plt.rcParams[\"font.size\"] = 10\n",
    "\n",
    "## 次元削減\n",
    "import numpy as np\n",
    "from sklearn.manifold import TSNE\n",
    "tsne_vec = TSNE(n_components=2, random_state=0).fit_transform(np.array(embed_data))\n",
    "len(tsne_vec)\n",
    "\n",
    "## グラフ描画\n",
    "length_data = len(tsne_vec)\n",
    "handles = [] # A list of Artists (lines)\n",
    "labels = ['0','1','2','3','4','5','6','7','8','9']\n",
    "i = 0\n",
    "while i < length_data:\n",
    "    # colormap https://matplotlib.org/stable/tutorials/colors/colormaps.html#colorcet\n",
    "    category = df_livedoor.iloc[i]['category']\n",
    "    color = cm.tab10(category)\n",
    "    #点プロット\n",
    "    line = plt.plot(tsne_vec[i][0], tsne_vec[i][1], ms=5.0, zorder=2, marker=\"x\", color=color, label=category)\n",
    "    if i % 2 == 0: # 同色をまとめる\n",
    "        handles.append(line)\n",
    "        \n",
    "    #文字プロット\n",
    "    plt.annotate(str(i), (tsne_vec[i][0], tsne_vec[i][1]), size=12, color=color, alpha=0.2)\n",
    " \n",
    "    i += 1\n",
    "\n",
    "## 凡例表示\n",
    "color_legends = []\n",
    "for i in range(9):\n",
    "    color_legends.append(mpatches.Patch(color=cm.tab10(i), label=str(i)))\n",
    "plt.legend(handles=color_legends)\n",
    "plt.title(title)\n",
    "plt.show()\n",
    "\n",
    "\n",
    "## COS類似度\n",
    "def cos_sim(v1, v2):\n",
    "    return np.dot(v1, v2) / (np.linalg.norm(v1) * np.linalg.norm(v2))\n",
    "\n",
    "rank = 3\n",
    "total = 0\n",
    "vec_vals = np.array(embed_data)\n",
    "for j in range(len(vec_vals)):\n",
    "    vec = []\n",
    "    for v in vec_vals:\n",
    "        cos = cos_sim(v, vec_vals[j])\n",
    "        vec.append(cos)\n",
    "    \n",
    "    vec = np.array(vec)\n",
    "    vec_asort= vec.argsort()[::-1]\n",
    "    for i in range(1,4):\n",
    "        if df_livedoor['category'][vec_asort[0]] == df_livedoor['category'][vec_asort[i]]:\n",
    "            total += 1\n",
    "            \n",
    "# print(total, len(vec_vals)*rank) ## 同一カテゴリ件数, 全件数\n",
    "print('Score:', total/(len(vec_vals)*rank)) ## スコア"
   ]
  }
 ],
 "metadata": {
  "kernelspec": {
   "display_name": "Python 3 (ipykernel)",
   "language": "python",
   "name": "python3"
  },
  "language_info": {
   "codemirror_mode": {
    "name": "ipython",
    "version": 3
   },
   "file_extension": ".py",
   "mimetype": "text/x-python",
   "name": "python",
   "nbconvert_exporter": "python",
   "pygments_lexer": "ipython3",
   "version": "3.8.10"
  }
 },
 "nbformat": 4,
 "nbformat_minor": 5
}
